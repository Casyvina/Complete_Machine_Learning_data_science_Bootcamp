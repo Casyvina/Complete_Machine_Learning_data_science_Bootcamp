{
 "cells": [
  {
   "cell_type": "markdown",
   "id": "97ea4b5a",
   "metadata": {},
   "source": [
    "# Test"
   ]
  },
  {
   "cell_type": "code",
   "execution_count": 2,
   "id": "039d7db9",
   "metadata": {},
   "outputs": [],
   "source": [
    "import matplotlib.pyplot as plt"
   ]
  },
  {
   "cell_type": "code",
   "execution_count": 6,
   "id": "779e3343",
   "metadata": {},
   "outputs": [],
   "source": [
    "ax = plt.subplots()"
   ]
  },
  {
   "cell_type": "code",
   "execution_count": 7,
   "id": "38ccbdfe",
   "metadata": {},
   "outputs": [],
   "source": [
    "ax"
   ]
  },
  {
   "cell_type": "code",
   "execution_count": 8,
   "id": "c7d11a3f",
   "metadata": {},
   "outputs": [],
   "source": [
    "fig = plt.subplots()"
   ]
  },
  {
   "cell_type": "code",
   "execution_count": 10,
   "id": "f884ccca",
   "metadata": {},
   "outputs": [],
   "source": [
    "fig, ax = plt.subplots()"
   ]
  },
  {
   "cell_type": "code",
   "execution_count": 13,
   "id": "0000e6e0",
   "metadata": {},
   "outputs": [],
   "source": [
    "ax."
   ]
  }
 ],
 "metadata": {
  "kernelspec": {
   "display_name": "Python 3 (ipykernel)",
   "language": "python",
   "name": "python3"
  },
  "language_info": {
   "codemirror_mode": {
    "name": "ipython",
    "version": 3
   },
   "file_extension": ".py",
   "mimetype": "text/x-python",
   "name": "python",
   "nbconvert_exporter": "python",
   "pygments_lexer": "ipython3",
   "version": "3.11.4"
  }
 },
 "nbformat": 4,
 "nbformat_minor": 5
}
